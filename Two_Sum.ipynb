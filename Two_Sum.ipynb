{
  "nbformat": 4,
  "nbformat_minor": 0,
  "metadata": {
    "colab": {
      "provenance": [],
      "authorship_tag": "ABX9TyPP3nglfJDE2ccO/n5AJvqT",
      "include_colab_link": true
    },
    "kernelspec": {
      "name": "python3",
      "display_name": "Python 3"
    },
    "language_info": {
      "name": "python"
    }
  },
  "cells": [
    {
      "cell_type": "markdown",
      "metadata": {
        "id": "view-in-github",
        "colab_type": "text"
      },
      "source": [
        "<a href=\"https://colab.research.google.com/github/jessegumba/LeetCode/blob/main/Two_Sum.ipynb\" target=\"_parent\"><img src=\"https://colab.research.google.com/assets/colab-badge.svg\" alt=\"Open In Colab\"/></a>"
      ]
    },
    {
      "cell_type": "markdown",
      "source": [
        "Given an array of integers `nums` and an integer `target`, return indices of the two numbers such that they add up to target.\n",
        "* You may assume that each input would have exactly one solution, and you may not use the same element twice.\n",
        "* You can return the answer in any order."
      ],
      "metadata": {
        "id": "NLfY4LRWAryZ"
      }
    },
    {
      "cell_type": "code",
      "source": [
        "nums = [3,2,4]\n",
        "target = 6\n",
        "\n",
        "for n in range(len(nums)):\n",
        "  for i in range(n+1,len(nums)):\n",
        "    value = nums[n] + nums[i]\n",
        "    if value == target:\n",
        "      print(f\"The two indices are {n} and {i}.\")\n",
        "      break"
      ],
      "metadata": {
        "colab": {
          "base_uri": "https://localhost:8080/"
        },
        "id": "r7GcrtvUAts7",
        "outputId": "9337288f-20db-49cf-f431-64efaebdab95"
      },
      "execution_count": null,
      "outputs": [
        {
          "output_type": "stream",
          "name": "stdout",
          "text": [
            "The two indices are 1 and 2.\n"
          ]
        }
      ]
    }
  ]
}
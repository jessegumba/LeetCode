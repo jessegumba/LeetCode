{
  "nbformat": 4,
  "nbformat_minor": 0,
  "metadata": {
    "colab": {
      "provenance": [],
      "authorship_tag": "ABX9TyOnbm7xMYYc5jRkAAxJLC1/",
      "include_colab_link": true
    },
    "kernelspec": {
      "name": "python3",
      "display_name": "Python 3"
    },
    "language_info": {
      "name": "python"
    }
  },
  "cells": [
    {
      "cell_type": "markdown",
      "metadata": {
        "id": "view-in-github",
        "colab_type": "text"
      },
      "source": [
        "<a href=\"https://colab.research.google.com/github/jessegumba/LeetCode/blob/main/Two_Sum.ipynb\" target=\"_parent\"><img src=\"https://colab.research.google.com/assets/colab-badge.svg\" alt=\"Open In Colab\"/></a>"
      ]
    },
    {
      "cell_type": "markdown",
      "source": [
        "Given an array of integers `nums` and an integer `target`, return indices of the two numbers such that they add up to target.\n",
        "* You may assume that each input would have exactly one solution, and you may not use the same element twice.\n",
        "* You can return the answer in any order."
      ],
      "metadata": {
        "id": "NLfY4LRWAryZ"
      }
    },
    {
      "cell_type": "code",
      "source": [
        "nums = [3,2,4]\n",
        "target = 6\n",
        "\n",
        "for n in range(len(nums)):\n",
        "  print(\"n: \",n)\n",
        "  for i in range(n+1,len(nums)):\n",
        "    print(\"i: \",i)\n",
        "    value = nums[n] + nums[i]\n",
        "    print(\"sum: \", nums[n], nums[i], value)\n",
        "    if value == target:\n",
        "      print(f\"The two indices are {n} and {i}.\")\n",
        "      break"
      ],
      "metadata": {
        "colab": {
          "base_uri": "https://localhost:8080/"
        },
        "id": "r7GcrtvUAts7",
        "outputId": "cca39b6e-8437-4b10-8c3f-3a8acf9e679e"
      },
      "execution_count": 20,
      "outputs": [
        {
          "output_type": "stream",
          "name": "stdout",
          "text": [
            "n:  0\n",
            "i:  1\n",
            "sum:  3 2 5\n",
            "i:  2\n",
            "sum:  3 4 7\n",
            "n:  1\n",
            "i:  2\n",
            "sum:  2 4 6\n",
            "The two indices are 1 and 2.\n",
            "n:  2\n"
          ]
        }
      ]
    }
  ]
}